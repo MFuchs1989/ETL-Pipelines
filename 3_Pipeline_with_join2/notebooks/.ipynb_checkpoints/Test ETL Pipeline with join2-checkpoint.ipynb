{
 "cells": [
  {
   "cell_type": "markdown",
   "metadata": {},
   "source": [
    "# Test `etl_pipeline.py`"
   ]
  },
  {
   "cell_type": "markdown",
   "metadata": {},
   "source": [
    "## from jupyter notebook"
   ]
  },
  {
   "cell_type": "code",
   "execution_count": 8,
   "metadata": {},
   "outputs": [],
   "source": [
    "import sys\n",
    "\n",
    "# Specifies the file path where the first .py file is located.\n",
    "sys.path.insert(1, '../data')\n",
    "import etl_pipeline"
   ]
  },
  {
   "cell_type": "code",
   "execution_count": 9,
   "metadata": {},
   "outputs": [
    {
     "name": "stdout",
     "output_type": "stream",
     "text": [
      "Start:\tRead in countries Dataset\n",
      "Finish:\tRead in countries Dataset\n",
      "Start:\tRead in countries_metadata Dataset\n",
      "Finish:\tRead in countries_metadata Dataset\n"
     ]
    }
   ],
   "source": [
    "datapreprocessor = etl_pipeline.DataPreprocessor()\n",
    "datapreprocessor.read_data_from_raw_input()"
   ]
  },
  {
   "cell_type": "code",
   "execution_count": 10,
   "metadata": {},
   "outputs": [
    {
     "name": "stdout",
     "output_type": "stream",
     "text": [
      "Start:\tPreprocessing countries_metadata Dataset\n",
      "Finish:\tPreprocessing countries_metadata Dataset\n",
      "Start:\tPreprocessing new_df Dataset\n",
      "Finish:\tPreprocessing new_df Dataset\n",
      "Start:\tSave new_df Dataset to disc\n",
      "Finish:\tSave new_df Dataset to disc\n"
     ]
    }
   ],
   "source": [
    "new_df = datapreprocessor.preprocess_data(save_preprocess_new_df=True)"
   ]
  },
  {
   "cell_type": "code",
   "execution_count": 11,
   "metadata": {},
   "outputs": [
    {
     "name": "stdout",
     "output_type": "stream",
     "text": [
      "Start:\tRead in modified Dataset\n",
      "Finish:\tRead in modified Dataset\n"
     ]
    }
   ],
   "source": [
    "new_df = datapreprocessor.read_preprocessed_tables()"
   ]
  },
  {
   "cell_type": "code",
   "execution_count": 12,
   "metadata": {},
   "outputs": [
    {
     "data": {
      "text/html": [
       "<div>\n",
       "<style scoped>\n",
       "    .dataframe tbody tr th:only-of-type {\n",
       "        vertical-align: middle;\n",
       "    }\n",
       "\n",
       "    .dataframe tbody tr th {\n",
       "        vertical-align: top;\n",
       "    }\n",
       "\n",
       "    .dataframe thead th {\n",
       "        text-align: right;\n",
       "    }\n",
       "</style>\n",
       "<table border=\"1\" class=\"dataframe\">\n",
       "  <thead>\n",
       "    <tr style=\"text-align: right;\">\n",
       "      <th></th>\n",
       "      <th>Countries</th>\n",
       "      <th>Population_per_k</th>\n",
       "      <th>Land_Area_per_k</th>\n",
       "      <th>Region</th>\n",
       "      <th>pop_density</th>\n",
       "    </tr>\n",
       "  </thead>\n",
       "  <tbody>\n",
       "    <tr>\n",
       "      <th>0</th>\n",
       "      <td>Austria</td>\n",
       "      <td>9006.398</td>\n",
       "      <td>82.409</td>\n",
       "      <td>Europe</td>\n",
       "      <td>109.289010</td>\n",
       "    </tr>\n",
       "    <tr>\n",
       "      <th>1</th>\n",
       "      <td>Bolivia</td>\n",
       "      <td>11673.021</td>\n",
       "      <td>1083.300</td>\n",
       "      <td>South America</td>\n",
       "      <td>10.775428</td>\n",
       "    </tr>\n",
       "    <tr>\n",
       "      <th>2</th>\n",
       "      <td>China</td>\n",
       "      <td>1439323.776</td>\n",
       "      <td>9388.211</td>\n",
       "      <td>Asia</td>\n",
       "      <td>153.311827</td>\n",
       "    </tr>\n",
       "    <tr>\n",
       "      <th>3</th>\n",
       "      <td>Denmark</td>\n",
       "      <td>5792.202</td>\n",
       "      <td>42.430</td>\n",
       "      <td>Europe</td>\n",
       "      <td>136.511949</td>\n",
       "    </tr>\n",
       "    <tr>\n",
       "      <th>4</th>\n",
       "      <td>Egypt</td>\n",
       "      <td>102334.404</td>\n",
       "      <td>995.450</td>\n",
       "      <td>Africa</td>\n",
       "      <td>102.802154</td>\n",
       "    </tr>\n",
       "    <tr>\n",
       "      <th>5</th>\n",
       "      <td>Ethiopia</td>\n",
       "      <td>114963.588</td>\n",
       "      <td>1000.000</td>\n",
       "      <td>Africa</td>\n",
       "      <td>114.963588</td>\n",
       "    </tr>\n",
       "    <tr>\n",
       "      <th>6</th>\n",
       "      <td>Finland</td>\n",
       "      <td>5540.720</td>\n",
       "      <td>303.890</td>\n",
       "      <td>Europe</td>\n",
       "      <td>18.232650</td>\n",
       "    </tr>\n",
       "    <tr>\n",
       "      <th>7</th>\n",
       "      <td>France</td>\n",
       "      <td>65273.511</td>\n",
       "      <td>547.557</td>\n",
       "      <td>Europe</td>\n",
       "      <td>119.208614</td>\n",
       "    </tr>\n",
       "    <tr>\n",
       "      <th>8</th>\n",
       "      <td>Germany</td>\n",
       "      <td>83783.942</td>\n",
       "      <td>348.560</td>\n",
       "      <td>Europe</td>\n",
       "      <td>240.371649</td>\n",
       "    </tr>\n",
       "    <tr>\n",
       "      <th>9</th>\n",
       "      <td>Greece</td>\n",
       "      <td>10423.054</td>\n",
       "      <td>128.900</td>\n",
       "      <td>Europe</td>\n",
       "      <td>80.861552</td>\n",
       "    </tr>\n",
       "  </tbody>\n",
       "</table>\n",
       "</div>"
      ],
      "text/plain": [
       "  Countries  Population_per_k  Land_Area_per_k         Region  pop_density\n",
       "0   Austria          9006.398           82.409         Europe   109.289010\n",
       "1   Bolivia         11673.021         1083.300  South America    10.775428\n",
       "2     China       1439323.776         9388.211           Asia   153.311827\n",
       "3   Denmark          5792.202           42.430         Europe   136.511949\n",
       "4     Egypt        102334.404          995.450         Africa   102.802154\n",
       "5  Ethiopia        114963.588         1000.000         Africa   114.963588\n",
       "6   Finland          5540.720          303.890         Europe    18.232650\n",
       "7    France         65273.511          547.557         Europe   119.208614\n",
       "8   Germany         83783.942          348.560         Europe   240.371649\n",
       "9    Greece         10423.054          128.900         Europe    80.861552"
      ]
     },
     "execution_count": 12,
     "metadata": {},
     "output_type": "execute_result"
    }
   ],
   "source": [
    "new_df"
   ]
  },
  {
   "cell_type": "code",
   "execution_count": null,
   "metadata": {},
   "outputs": [],
   "source": []
  },
  {
   "cell_type": "code",
   "execution_count": null,
   "metadata": {},
   "outputs": [],
   "source": []
  },
  {
   "cell_type": "code",
   "execution_count": null,
   "metadata": {},
   "outputs": [],
   "source": []
  }
 ],
 "metadata": {
  "kernelspec": {
   "display_name": "Python 3",
   "language": "python",
   "name": "python3"
  },
  "language_info": {
   "codemirror_mode": {
    "name": "ipython",
    "version": 3
   },
   "file_extension": ".py",
   "mimetype": "text/x-python",
   "name": "python",
   "nbconvert_exporter": "python",
   "pygments_lexer": "ipython3",
   "version": "3.6.8"
  },
  "toc": {
   "base_numbering": 1,
   "nav_menu": {},
   "number_sections": true,
   "sideBar": true,
   "skip_h1_title": false,
   "title_cell": "Table of Contents",
   "title_sidebar": "Contents",
   "toc_cell": false,
   "toc_position": {},
   "toc_section_display": true,
   "toc_window_display": true
  }
 },
 "nbformat": 4,
 "nbformat_minor": 2
}
